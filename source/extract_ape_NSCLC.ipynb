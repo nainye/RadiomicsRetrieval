{
 "cells": [
  {
   "cell_type": "markdown",
   "metadata": {},
   "source": [
    "# Extract APE (Anatomical Positional Embedding) for NSCLC"
   ]
  },
  {
   "cell_type": "markdown",
   "metadata": {},
   "source": [
    "### Recommended: Run APE in a Separate Docker Container\n",
    "To avoid potential conflicts with the RadiomicsRetrieval environment, it is recommended to run APE extraction in a separate container:\n",
    "\n",
    "```bash\n",
    "docker run --shm-size=192gb --gpus=all -it \\\n",
    "  -v /path/to/your/project/:/workspace \\\n",
    "  --name ape \\\n",
    "  pytorch/pytorch:2.3.1-cuda12.1-cudnn8-devel /bin/bash\n",
    "```"
   ]
  },
  {
   "cell_type": "markdown",
   "metadata": {},
   "source": [
    "### Inside the container: Install APE\n",
    "```bash\n",
    "git clone https://github.com/mishgon/ape.git && cd ape && pip install -e .\n",
    "```"
   ]
  },
  {
   "cell_type": "code",
   "execution_count": null,
   "metadata": {},
   "outputs": [],
   "source": [
    "import os\n",
    "import numpy as np\n",
    "import SimpleITK as sitk\n",
    "import torch\n",
    "from torch import nn\n",
    "import torch.nn.functional as F\n",
    "from typing import Optional, Union, Tuple, Literal, Sequence\n",
    "import itertools\n",
    "import math\n",
    "import json\n",
    "from tqdm import tqdm\n",
    "import matplotlib.pyplot as plt\n",
    "from ape.model import APE"
   ]
  },
  {
   "cell_type": "code",
   "execution_count": null,
   "metadata": {},
   "outputs": [],
   "source": [
    "device = torch.device('cuda:0' if torch.cuda.is_available() else 'cpu')\n",
    "print(\"Device\", device)\n",
    "\n",
    "model = APE(pretrained=True).eval().to(device)\n",
    "\n",
    "data_root = '/workspace/RadiomicsRetrieval/data/NSCLC'\n",
    "images_root = os.path.join(data_root, 'images')\n",
    "apes_npy_root = os.path.join(data_root, 'apes_npy')\n",
    "apes_nii_root = os.path.join(data_root, 'apes_nii')\n",
    "os.makedirs(apes_npy_root, exist_ok=True)\n",
    "os.makedirs(apes_nii_root, exist_ok=True)\n",
    "\n",
    "images = os.listdir(images_root)\n",
    "for image_name in tqdm(images):\n",
    "    image_path = os.path.join(images_root, image_name)\n",
    "\n",
    "    image_sitk = sitk.ReadImage(image_path)\n",
    "    image_np = sitk.GetArrayFromImage(image_sitk)\n",
    "    image_np = np.transpose(image_np, (2, 1, 0))\n",
    "    \n",
    "    image_np = (image_np - image_np.mean()) / image_np.std()\n",
    "    image_tensor = torch.tensor(image_np).unsqueeze(0).unsqueeze(0).float().to(device)\n",
    "\n",
    "    with torch.no_grad():\n",
    "        ape_tensor = model(image_tensor).cpu()\n",
    "        stride = 4\n",
    "        ape_tensor = F.interpolate(ape_tensor, size=image_np.shape, mode='trilinear', align_corners=False).squeeze(0)\n",
    "\n",
    "    ape_npy_path = os.path.join(apes_npy_root, image_name.replace('.nii.gz', '.npy'))\n",
    "    np.save(ape_npy_path, ape_tensor.numpy())\n",
    "\n",
    "    for i in range(3):\n",
    "        ape_nii_path = os.path.join(apes_nii_root, f'{image_name.replace(\".nii.gz\", \"\")}_ape_{i}.nii.gz')\n",
    "        ape_np = ape_tensor[i].numpy()\n",
    "        ape_np = np.transpose(ape_np, (2, 1, 0))\n",
    "        ape_sitk = sitk.GetImageFromArray(ape_np)\n",
    "        ape_sitk.SetSpacing(image_sitk.GetSpacing())\n",
    "        ape_sitk.SetOrigin(image_sitk.GetOrigin())\n",
    "        ape_sitk.SetDirection(image_sitk.GetDirection())\n",
    "        sitk.WriteImage(ape_sitk, ape_nii_path)\n"
   ]
  },
  {
   "cell_type": "code",
   "execution_count": null,
   "metadata": {},
   "outputs": [],
   "source": []
  }
 ],
 "metadata": {
  "kernelspec": {
   "display_name": "base",
   "language": "python",
   "name": "python3"
  },
  "language_info": {
   "codemirror_mode": {
    "name": "ipython",
    "version": 3
   },
   "file_extension": ".py",
   "mimetype": "text/x-python",
   "name": "python",
   "nbconvert_exporter": "python",
   "pygments_lexer": "ipython3",
   "version": "3.10.14"
  }
 },
 "nbformat": 4,
 "nbformat_minor": 2
}
